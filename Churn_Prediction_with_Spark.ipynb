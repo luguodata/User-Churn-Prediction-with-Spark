{
 "cells": [
  {
   "cell_type": "markdown",
   "metadata": {},
   "source": [
    "# Sparkify Project \n",
    "\n",
    "\n",
    "**Project Overview:** \n",
    "This project is about building a churn prediction model on Sparkify, a Digital music service, like Spotify or Pandora. Spark will be used to manipulate the user log information ,do data exploratory and build machine learning models for predict monthly churn.\n",
    "\n",
    "A subset of full data will be used for this analysis. \n",
    "\n",
    "**Project Purpose:** \n",
    "Churn prevention is a hot and challenging problem in almost every product and service company. If the risk of users disconnecting service could be predicted, then company could take actions to save customers before they leaving. In this sepecific case for Sparkify, what I do is to predict users at risk to cancel their services or downgrading from premium to free tier altogether. More sepecifically, I will use the monthly user-product interations along with user demographic information to predict next month churn. If we could get good model performance and make it into production, company would benefit a lot.\n",
    "\n",
    "**Project Evaluation**\n",
    "Since customer churn or not is a binary outcome, the classification models will be built on the processed dataset. \n",
    "Churn or stay group is imblanced, F1 score, AUC score will be as the evalution metrics inteading of accuracy. "
   ]
  },
  {
   "cell_type": "markdown",
   "metadata": {},
   "source": [
    "## Table of Content\n",
    "\n",
    "**Target**: Predict users at risk to churn either downgrade from premium to free tier or cancelling their services altogether.\n",
    "\n",
    "`1.` Load and Clean Dataset <br>\n",
    "`2.` Feature Engineering. <br>\n",
    "`3.` Build Data Processing and ML Pipeline. <br>\n",
    "`4.` Model Training and Prediction. <br>"
   ]
  },
  {
   "cell_type": "markdown",
   "metadata": {},
   "source": [
    "**Import necessary libraries.**"
   ]
  },
  {
   "cell_type": "code",
   "execution_count": 1,
   "metadata": {},
   "outputs": [],
   "source": [
    "# import libraries\n",
    "from pyspark.sql import SparkSession, Window\n",
    "from pyspark.sql.functions import *\n",
    "from pyspark.sql.types import IntegerType, DateType, StringType\n",
    "\n",
    "from pyspark.ml.feature import StringIndexer, OneHotEncoder, VectorAssembler, StandardScaler, HashingTF\n",
    "from pyspark.ml import Pipeline\n",
    "from pyspark.ml.classification import RandomForestClassifier, LogisticRegression\n",
    "from pyspark.ml.evaluation import BinaryClassificationEvaluator, MulticlassClassificationEvaluator\n",
    "from pyspark.ml.tuning import CrossValidator, ParamGridBuilder, TrainValidationSplit\n",
    "\n",
    "\n",
    "from datetime import datetime\n",
    "import numpy as np\n",
    "\n",
    "import matplotlib.pyplot as plt\n",
    "import seaborn as sns\n",
    "%matplotlib inline"
   ]
  },
  {
   "cell_type": "markdown",
   "metadata": {},
   "source": [
    "**Create a SparkSession for using spark and name it \"Sparkify\".**"
   ]
  },
  {
   "cell_type": "code",
   "execution_count": 2,
   "metadata": {},
   "outputs": [],
   "source": [
    "# create a Spark session\n",
    "spark = SparkSession \\\n",
    "    .builder \\\n",
    "    .appName(\"Sparkify\") \\\n",
    "    .getOrCreate()"
   ]
  },
  {
   "cell_type": "markdown",
   "metadata": {},
   "source": [
    "# Load and Clean Dataset\n",
    "Load and clean the dataset, remove invalid records such as no userId."
   ]
  },
  {
   "cell_type": "code",
   "execution_count": 3,
   "metadata": {
    "scrolled": true
   },
   "outputs": [],
   "source": [
    "# set data path and read in\n",
    "data_path = \"mini_sparkify_event_data.json\"\n",
    "mini_data = spark.read.json(data_path)"
   ]
  },
  {
   "cell_type": "code",
   "execution_count": 4,
   "metadata": {
    "scrolled": true
   },
   "outputs": [
    {
     "name": "stdout",
     "output_type": "stream",
     "text": [
      "+--------------+---------+---------+------+-------------+--------+---------+-----+---------------+------+--------+-------------+---------+---------+------+-------------+--------------------+------+\n",
      "|        artist|     auth|firstName|gender|itemInSession|lastName|   length|level|       location|method|    page| registration|sessionId|     song|status|           ts|           userAgent|userId|\n",
      "+--------------+---------+---------+------+-------------+--------+---------+-----+---------------+------+--------+-------------+---------+---------+------+-------------+--------------------+------+\n",
      "|Martha Tilston|Logged In|    Colin|     M|           50| Freeman|277.89016| paid|Bakersfield, CA|   PUT|NextSong|1538173362000|       29|Rockpools|   200|1538352117000|Mozilla/5.0 (Wind...|    30|\n",
      "+--------------+---------+---------+------+-------------+--------+---------+-----+---------------+------+--------+-------------+---------+---------+------+-------------+--------------------+------+\n",
      "only showing top 1 row\n",
      "\n"
     ]
    }
   ],
   "source": [
    "# display the table content\n",
    "mini_data.show(1)"
   ]
  },
  {
   "cell_type": "code",
   "execution_count": 5,
   "metadata": {},
   "outputs": [
    {
     "data": {
      "text/plain": [
       "286500"
      ]
     },
     "execution_count": 5,
     "metadata": {},
     "output_type": "execute_result"
    }
   ],
   "source": [
    "# count rows in this dataset\n",
    "mini_data.count()"
   ]
  },
  {
   "cell_type": "code",
   "execution_count": 6,
   "metadata": {
    "scrolled": true
   },
   "outputs": [
    {
     "name": "stdout",
     "output_type": "stream",
     "text": [
      "root\n",
      " |-- artist: string (nullable = true)\n",
      " |-- auth: string (nullable = true)\n",
      " |-- firstName: string (nullable = true)\n",
      " |-- gender: string (nullable = true)\n",
      " |-- itemInSession: long (nullable = true)\n",
      " |-- lastName: string (nullable = true)\n",
      " |-- length: double (nullable = true)\n",
      " |-- level: string (nullable = true)\n",
      " |-- location: string (nullable = true)\n",
      " |-- method: string (nullable = true)\n",
      " |-- page: string (nullable = true)\n",
      " |-- registration: long (nullable = true)\n",
      " |-- sessionId: long (nullable = true)\n",
      " |-- song: string (nullable = true)\n",
      " |-- status: long (nullable = true)\n",
      " |-- ts: long (nullable = true)\n",
      " |-- userAgent: string (nullable = true)\n",
      " |-- userId: string (nullable = true)\n",
      "\n"
     ]
    }
   ],
   "source": [
    "# Print the schema in a tree format\n",
    "mini_data.printSchema()"
   ]
  },
  {
   "cell_type": "code",
   "execution_count": 7,
   "metadata": {},
   "outputs": [],
   "source": [
    "# register the mini data as a SQL temporary view\n",
    "mini_data.createOrReplaceTempView(\"df_mini\")"
   ]
  },
  {
   "cell_type": "code",
   "execution_count": 8,
   "metadata": {},
   "outputs": [
    {
     "name": "stdout",
     "output_type": "stream",
     "text": [
      "+----------------------+\n",
      "|count(DISTINCT userId)|\n",
      "+----------------------+\n",
      "|                   226|\n",
      "+----------------------+\n",
      "\n"
     ]
    }
   ],
   "source": [
    "# count distinct user_ids\n",
    "spark.sql(\"select count(distinct(userId)) from df_mini\").show()"
   ]
  },
  {
   "cell_type": "code",
   "execution_count": 9,
   "metadata": {},
   "outputs": [
    {
     "data": {
      "text/plain": [
       "[('artist', 58392),\n",
       " ('auth', 0),\n",
       " ('firstName', 8346),\n",
       " ('gender', 8346),\n",
       " ('itemInSession', 0),\n",
       " ('lastName', 8346),\n",
       " ('length', 58392),\n",
       " ('level', 0),\n",
       " ('location', 8346),\n",
       " ('method', 0),\n",
       " ('page', 0),\n",
       " ('registration', 8346),\n",
       " ('sessionId', 0),\n",
       " ('song', 58392),\n",
       " ('status', 0),\n",
       " ('ts', 0),\n",
       " ('userAgent', 8346),\n",
       " ('userId', 0)]"
      ]
     },
     "execution_count": 9,
     "metadata": {},
     "output_type": "execute_result"
    }
   ],
   "source": [
    "# print out null sums in each column \n",
    "[(c, spark.sql(\"select * from df_mini where {} is Null\".format(c)).count()) for c in mini_data.columns]"
   ]
  },
  {
   "cell_type": "code",
   "execution_count": 10,
   "metadata": {},
   "outputs": [
    {
     "data": {
      "text/plain": [
       "[('artist', 0),\n",
       " ('auth', 0),\n",
       " ('firstName', 0),\n",
       " ('gender', 0),\n",
       " ('itemInSession', 0),\n",
       " ('lastName', 0),\n",
       " ('length', 0),\n",
       " ('level', 0),\n",
       " ('location', 0),\n",
       " ('method', 0),\n",
       " ('page', 0),\n",
       " ('registration', 0),\n",
       " ('sessionId', 0),\n",
       " ('song', 0),\n",
       " ('status', 0),\n",
       " ('ts', 0),\n",
       " ('userAgent', 0),\n",
       " ('userId', 8346)]"
      ]
     },
     "execution_count": 10,
     "metadata": {},
     "output_type": "execute_result"
    }
   ],
   "source": [
    "# print out '' sums in each column \n",
    "[(c, spark.sql(\"select * from df_mini where {} = ''\".format(c)).count()) for c in mini_data.columns]"
   ]
  },
  {
   "cell_type": "code",
   "execution_count": 11,
   "metadata": {
    "scrolled": true
   },
   "outputs": [
    {
     "name": "stdout",
     "output_type": "stream",
     "text": [
      "+--------+\n",
      "|    page|\n",
      "+--------+\n",
      "|NextSong|\n",
      "+--------+\n",
      "\n"
     ]
    }
   ],
   "source": [
    "# take a look which pages are user in if \n",
    "spark.sql(\"select distinct page from df_mini where artist is not Null\").show()"
   ]
  },
  {
   "cell_type": "code",
   "execution_count": 12,
   "metadata": {
    "scrolled": true
   },
   "outputs": [
    {
     "name": "stdout",
     "output_type": "stream",
     "text": [
      "+----+\n",
      "|song|\n",
      "+----+\n",
      "|null|\n",
      "|null|\n",
      "+----+\n",
      "only showing top 2 rows\n",
      "\n"
     ]
    }
   ],
   "source": [
    "# take a look which pages are user in if \n",
    "spark.sql(\"select song from df_mini where userId = ''\").show(2)"
   ]
  },
  {
   "cell_type": "markdown",
   "metadata": {},
   "source": [
    "**Findings:** <br>\n",
    "\n",
    "    There are two types missing values in this dataset.\n",
    "    * Nulls: artist/song -- 58,392. Due to the log page is not 'NextSong'.\n",
    "    * ''s: userId -- 8,346. Due to user not log in. At this situation, user related information would be nulls such        as first name,last name,location etc.\n",
    "    \n",
    "    Next step is to keep logged in users only -- remove userId is '' records."
   ]
  },
  {
   "cell_type": "code",
   "execution_count": 13,
   "metadata": {},
   "outputs": [],
   "source": [
    "# Filter out userId is null records\n",
    "mini_data_non0 = mini_data.filter(mini_data.userId != '')"
   ]
  },
  {
   "cell_type": "code",
   "execution_count": 14,
   "metadata": {},
   "outputs": [
    {
     "data": {
      "text/plain": [
       "278154"
      ]
     },
     "execution_count": 14,
     "metadata": {},
     "output_type": "execute_result"
    }
   ],
   "source": [
    "mini_data_non0.count()"
   ]
  },
  {
   "cell_type": "code",
   "execution_count": 15,
   "metadata": {},
   "outputs": [],
   "source": [
    "mini_data_non0.createOrReplaceTempView(\"df_mini_non0\")"
   ]
  },
  {
   "cell_type": "code",
   "execution_count": 16,
   "metadata": {},
   "outputs": [
    {
     "data": {
      "text/plain": [
       "[('artist', 50046),\n",
       " ('auth', 0),\n",
       " ('firstName', 0),\n",
       " ('gender', 0),\n",
       " ('itemInSession', 0),\n",
       " ('lastName', 0),\n",
       " ('length', 50046),\n",
       " ('level', 0),\n",
       " ('location', 0),\n",
       " ('method', 0),\n",
       " ('page', 0),\n",
       " ('registration', 0),\n",
       " ('sessionId', 0),\n",
       " ('song', 50046),\n",
       " ('status', 0),\n",
       " ('ts', 0),\n",
       " ('userAgent', 0),\n",
       " ('userId', 0)]"
      ]
     },
     "execution_count": 16,
     "metadata": {},
     "output_type": "execute_result"
    }
   ],
   "source": [
    "# print out null sums in each column \n",
    "[(c, spark.sql(\"select * from df_mini_non0 where {} is Null\".format(c)).count()) for c in mini_data_non0.columns]"
   ]
  },
  {
   "cell_type": "code",
   "execution_count": 17,
   "metadata": {},
   "outputs": [],
   "source": [
    "def dispaly_vara_cnt(vara):\n",
    "    \"\"\" Show variable's unique count, if unique values less than 10 print them out.\n",
    "    INPUT:\n",
    "    vara: -- (string), variable need to be counted.\n",
    "    OUTPUT:\n",
    "    total counts or groupby counts\n",
    "    \"\"\"\n",
    "    ttl_uniq_cnt = mini_data_non0.select([vara]).dropDuplicates().count()\n",
    "    if ttl_uniq_cnt >10:\n",
    "        print(\"In this dataset, there are total {} unique {}\".format(ttl_uniq_cnt, vara))\n",
    "        \n",
    "    elif vara in ['gender','firstName','lastnAME','location']:\n",
    "        spark.sql(\"select {}, count(*) as unique_cnt from \\\n",
    "          (select distinct userId, {} from df_mini_non0) \\\n",
    "          group by {}\".format(vara, vara, vara)).show()\n",
    "        \n",
    "    else:\n",
    "        spark.sql(\"select {}, count(level) as unique_cnt from df_mini_non0\\\n",
    "           group by {} order by unique_cnt desc\".format(vara, vara)).show()"
   ]
  },
  {
   "cell_type": "code",
   "execution_count": 18,
   "metadata": {},
   "outputs": [
    {
     "name": "stdout",
     "output_type": "stream",
     "text": [
      "In this dataset, there are total 225 unique userId\n"
     ]
    }
   ],
   "source": [
    "dispaly_vara_cnt('userId')"
   ]
  },
  {
   "cell_type": "code",
   "execution_count": 19,
   "metadata": {},
   "outputs": [
    {
     "name": "stdout",
     "output_type": "stream",
     "text": [
      "+------+----------+\n",
      "|gender|unique_cnt|\n",
      "+------+----------+\n",
      "|     F|       104|\n",
      "|     M|       121|\n",
      "+------+----------+\n",
      "\n"
     ]
    }
   ],
   "source": [
    "dispaly_vara_cnt('gender')"
   ]
  },
  {
   "cell_type": "code",
   "execution_count": 20,
   "metadata": {},
   "outputs": [
    {
     "name": "stdout",
     "output_type": "stream",
     "text": [
      "In this dataset, there are total 17656 unique artist\n"
     ]
    }
   ],
   "source": [
    "dispaly_vara_cnt('artist')"
   ]
  },
  {
   "cell_type": "code",
   "execution_count": 21,
   "metadata": {},
   "outputs": [
    {
     "name": "stdout",
     "output_type": "stream",
     "text": [
      "In this dataset, there are total 1311 unique itemInSession\n"
     ]
    }
   ],
   "source": [
    "dispaly_vara_cnt('itemInSession')"
   ]
  },
  {
   "cell_type": "code",
   "execution_count": 22,
   "metadata": {},
   "outputs": [
    {
     "name": "stdout",
     "output_type": "stream",
     "text": [
      "+-----+----------+\n",
      "|level|unique_cnt|\n",
      "+-----+----------+\n",
      "| paid|    222433|\n",
      "| free|     55721|\n",
      "+-----+----------+\n",
      "\n"
     ]
    }
   ],
   "source": [
    "dispaly_vara_cnt('level')"
   ]
  },
  {
   "cell_type": "code",
   "execution_count": 23,
   "metadata": {},
   "outputs": [
    {
     "name": "stdout",
     "output_type": "stream",
     "text": [
      "In this dataset, there are total 114 unique location\n"
     ]
    }
   ],
   "source": [
    "dispaly_vara_cnt('location')"
   ]
  },
  {
   "cell_type": "code",
   "execution_count": 24,
   "metadata": {},
   "outputs": [
    {
     "name": "stdout",
     "output_type": "stream",
     "text": [
      "+------+----------+\n",
      "|method|unique_cnt|\n",
      "+------+----------+\n",
      "|   PUT|    257818|\n",
      "|   GET|     20336|\n",
      "+------+----------+\n",
      "\n"
     ]
    }
   ],
   "source": [
    "dispaly_vara_cnt('method')"
   ]
  },
  {
   "cell_type": "code",
   "execution_count": 25,
   "metadata": {},
   "outputs": [
    {
     "name": "stdout",
     "output_type": "stream",
     "text": [
      "In this dataset, there are total 19 unique page\n"
     ]
    }
   ],
   "source": [
    "dispaly_vara_cnt('page')"
   ]
  },
  {
   "cell_type": "code",
   "execution_count": 26,
   "metadata": {},
   "outputs": [
    {
     "name": "stdout",
     "output_type": "stream",
     "text": [
      "In this dataset, there are total 225 unique registration\n"
     ]
    }
   ],
   "source": [
    "dispaly_vara_cnt('registration')"
   ]
  },
  {
   "cell_type": "code",
   "execution_count": 27,
   "metadata": {},
   "outputs": [
    {
     "name": "stdout",
     "output_type": "stream",
     "text": [
      "In this dataset, there are total 58481 unique song\n"
     ]
    }
   ],
   "source": [
    "dispaly_vara_cnt('song')"
   ]
  },
  {
   "cell_type": "code",
   "execution_count": 28,
   "metadata": {},
   "outputs": [
    {
     "name": "stdout",
     "output_type": "stream",
     "text": [
      "+------+----------+\n",
      "|status|unique_cnt|\n",
      "+------+----------+\n",
      "|   200|    254718|\n",
      "|   307|     23184|\n",
      "|   404|       252|\n",
      "+------+----------+\n",
      "\n"
     ]
    }
   ],
   "source": [
    "dispaly_vara_cnt('status')"
   ]
  },
  {
   "cell_type": "code",
   "execution_count": 29,
   "metadata": {},
   "outputs": [
    {
     "name": "stdout",
     "output_type": "stream",
     "text": [
      "In this dataset, there are total 56 unique userAgent\n"
     ]
    }
   ],
   "source": [
    "dispaly_vara_cnt('userAgent')"
   ]
  },
  {
   "cell_type": "markdown",
   "metadata": {},
   "source": [
    "# Feature Engineering\n",
    "\n",
    "\n",
    "\n",
    "### Define Churn\n",
    "For a music service company, we could define churn as cancel service and even more downgrade service could be counted. I will create a column `Churn` by using either the `Cancellation Confirmation` events alone or with `Downgrade` events together. Will decide after exploring the event counts.\n"
   ]
  },
  {
   "cell_type": "code",
   "execution_count": 30,
   "metadata": {
    "scrolled": true
   },
   "outputs": [
    {
     "data": {
      "text/plain": [
       "52"
      ]
     },
     "execution_count": 30,
     "metadata": {},
     "output_type": "execute_result"
    }
   ],
   "source": [
    "# Define Churn\n",
    "# To look how many unique users submit cancellation\n",
    "mini_data_non0.select(['userId']).where(mini_data_non0.page.isin(['Cancellation Confirmation']))\\\n",
    "            .dropDuplicates().count()"
   ]
  },
  {
   "cell_type": "code",
   "execution_count": 31,
   "metadata": {},
   "outputs": [
    {
     "data": {
      "text/plain": [
       "171"
      ]
     },
     "execution_count": 31,
     "metadata": {},
     "output_type": "execute_result"
    }
   ],
   "source": [
    "# Look how many unique users submit cancellation or Downgrade\n",
    "mini_data_non0.select(['userId']).where(mini_data_non0.page.isin(['Cancellation Confirmation','Downgrade']))\\\n",
    "                .dropDuplicates().count()"
   ]
  },
  {
   "cell_type": "code",
   "execution_count": 32,
   "metadata": {},
   "outputs": [
    {
     "data": {
      "text/plain": [
       "225"
      ]
     },
     "execution_count": 32,
     "metadata": {},
     "output_type": "execute_result"
    }
   ],
   "source": [
    "# Total users\n",
    "mini_data_non0.select(['userId']).dropDuplicates().count()"
   ]
  },
  {
   "cell_type": "markdown",
   "metadata": {},
   "source": [
    "**Findings**\n",
    "\n",
    "1. There are total 225 unique users in this dataset.\n",
    "2. Out of these 225 unique users, 52 submitted cancellations and 171 submitted either cancellations or downgrades.\n",
    "\n",
    "Decide to use the `Cancellation Confirmation` events as churn label since the proportion of `Downgrade` users is too large. "
   ]
  },
  {
   "cell_type": "code",
   "execution_count": 33,
   "metadata": {},
   "outputs": [],
   "source": [
    "# Create new column to label cancellation or not\n",
    "# define churn function\n",
    "cancellation_event = udf(lambda x: 1 if x == 'Cancellation Confirmation' else 0, IntegerType())\n",
    "# apply churn function\n",
    "mini_data_non0 = mini_data_non0.withColumn(\"churn\", cancellation_event(\"page\"))\n",
    "# fill churn user na as 0s\n",
    "mini_data_non0 = mini_data_non0.na.fill({'churn': 0})"
   ]
  },
  {
   "cell_type": "code",
   "execution_count": 34,
   "metadata": {},
   "outputs": [],
   "source": [
    "# get some time related cols from ts\n",
    "ts_to_hour = udf(lambda x: datetime.fromtimestamp(x / 1000.0).hour)\n",
    "mini_data_non0 = mini_data_non0.withColumn(\"hour\",ts_to_hour(\"ts\"))\n",
    "ts_to_day = udf(lambda x: datetime.fromtimestamp(x / 1000.0).day)\n",
    "mini_data_non0 = mini_data_non0.withColumn(\"day\",ts_to_day(\"ts\"))\n",
    "mini_data_non0 = mini_data_non0.withColumn(\"date\",from_unixtime(mini_data_non0.ts/1000).cast(DateType()))"
   ]
  },
  {
   "cell_type": "code",
   "execution_count": 35,
   "metadata": {
    "scrolled": true
   },
   "outputs": [
    {
     "name": "stdout",
     "output_type": "stream",
     "text": [
      "+----------+----------+\n",
      "|      date|churn_user|\n",
      "+----------+----------+\n",
      "|2018-10-01|         1|\n",
      "|2018-10-02|         1|\n",
      "|2018-10-04|         2|\n",
      "|2018-10-05|         1|\n",
      "|2018-10-07|         2|\n",
      "+----------+----------+\n",
      "only showing top 5 rows\n",
      "\n"
     ]
    }
   ],
   "source": [
    "# set a temp sql view\n",
    "mini_data_non0.createOrReplaceTempView(\"df_mini_non0\")\n",
    "\n",
    "# churn users' churn date distirbution\n",
    "spark.sql(\"select date, count(date) as churn_user \\\n",
    "           from df_mini_non0 where churn = 1 \\\n",
    "           group by date order by date\").show(5)"
   ]
  },
  {
   "cell_type": "code",
   "execution_count": 36,
   "metadata": {},
   "outputs": [
    {
     "name": "stdout",
     "output_type": "stream",
     "text": [
      "+----------------------+\n",
      "|count(DISTINCT userId)|\n",
      "+----------------------+\n",
      "|                    22|\n",
      "+----------------------+\n",
      "\n"
     ]
    }
   ],
   "source": [
    "# To see how many users churn between 2018-11-01 to 2018-11-31 \n",
    "spark.sql(\"select count(distinct(userId)) from df_mini_non0 \\\n",
    "                          where date >= '2018-11-01' and date < '2018-12-01' \\\n",
    "                          and churn = 1\").show()"
   ]
  },
  {
   "cell_type": "markdown",
   "metadata": {},
   "source": [
    "**Thoughts:** <br>\n",
    "\n",
    "In order to take actions before user churn, we need set-up an observation period and to predict user churn scenario in the upcoming target period. In real business world, month is common period for track the performance metric. Thus, in this project I'll use user monthly activities to predict next month churn. \n",
    "\n",
    "I will select 2018-11-01 as the benchmark date, 2018-10-01 to 2018-10-31 as the observational period and customers active at 2018-10-31 as base customer counts. Customers who churned between 2018-11-01 and 2018-11-30 as target churned customers. All customers who churned before 2018-11-01 will be removed from the analysis. In other words, only keep customers who were active at 2018-10-31. \n",
    "\n",
    "Unique customers:\n",
    "\n",
    "* Baseline: (214 - (52-22)) = 184.\n",
    "* Churned in the folowing month: 22.\n",
    "* Monthly Churn Rate: 22/184 = 12%\n"
   ]
  },
  {
   "cell_type": "markdown",
   "metadata": {},
   "source": [
    "`1.` Get obervational period data"
   ]
  },
  {
   "cell_type": "code",
   "execution_count": 37,
   "metadata": {},
   "outputs": [],
   "source": [
    "mini_data_non0.createOrReplaceTempView(\"df_mini_non0\")\n",
    "\n",
    "mini_data_obv = spark.sql(\"select * from df_mini_non0 \\\n",
    "                          where date >= '2018-10-01' and date < '2018-11-01'\")"
   ]
  },
  {
   "cell_type": "markdown",
   "metadata": {},
   "source": [
    "`2.` Remove users churned between 2018-10-01 and 2018-11-01"
   ]
  },
  {
   "cell_type": "code",
   "execution_count": 38,
   "metadata": {
    "scrolled": true
   },
   "outputs": [],
   "source": [
    "# get unique churn users\n",
    "churn_user_obv = mini_data_obv.select(['userId']).where(mini_data_obv.churn == 1).dropDuplicates()\n",
    "# assign new churn user label to churn users\n",
    "churn_user_obv = churn_user_obv.withColumn(\"churn_user_obv\", lit(1))\n",
    "# join churn user back to original table and got an label\n",
    "mini_data_obv = mini_data_obv.join(churn_user_obv, \"userId\", how = 'outer')\n",
    "# remove users records who churn between 2018-10-01 and 2018-11-01\n",
    "mini_data_obv = mini_data_obv.where(col('churn_user_obv').isNull())"
   ]
  },
  {
   "cell_type": "markdown",
   "metadata": {},
   "source": [
    "`3.`Get unique userIds who churned during target period 2018-11-01 and 2018-12-01, then join back with the observational period."
   ]
  },
  {
   "cell_type": "code",
   "execution_count": 39,
   "metadata": {
    "scrolled": true
   },
   "outputs": [],
   "source": [
    "# Churn period data\n",
    "mini_data_target = spark.sql(\"select * from df_mini_non0 \\\n",
    "                          where date >= '2018-11-01' and date < '2018-12-01'\")\n",
    "\n",
    "# unique users churned during the target period\n",
    "churn_user_target = mini_data_target.select(['userId']).where(mini_data_target.churn == 1).dropDuplicates()\n",
    "\n",
    "# assign new churn user label to churn users\n",
    "churn_user_target = churn_user_target.withColumn(\"churn_user_target\", lit(1))\n",
    "\n",
    "# join churn user back to observal table and got an label\n",
    "mini_data_obv = mini_data_obv.join(churn_user_target, \"userId\", how = 'outer')\n",
    "\n",
    "# fill na with 0s in the observational dataset\n",
    "mini_data_obv = mini_data_obv.fillna(0, subset = ['churn_user_target'])\n",
    "\n",
    "# Drop some columns\n",
    "mini_data_obv = mini_data_obv.drop('churn').drop('churn_user_obv')"
   ]
  },
  {
   "cell_type": "code",
   "execution_count": 40,
   "metadata": {},
   "outputs": [
    {
     "name": "stdout",
     "output_type": "stream",
     "text": [
      "+-----------------+------+\n",
      "|churn_user_target|   cnt|\n",
      "+-----------------+------+\n",
      "|                0|108206|\n",
      "|                1| 20168|\n",
      "+-----------------+------+\n",
      "\n"
     ]
    }
   ],
   "source": [
    "# set temp sql view\n",
    "mini_data_obv.createOrReplaceTempView(\"df_mini_non0_obv\")\n",
    "\n",
    "# churn/not churn counts\n",
    "spark.sql(\"select churn_user_target, count(*) as cnt from df_mini_non0_obv\\\n",
    "           group by churn_user_target order by churn_user_target\").show()"
   ]
  },
  {
   "cell_type": "code",
   "execution_count": 41,
   "metadata": {},
   "outputs": [
    {
     "name": "stdout",
     "output_type": "stream",
     "text": [
      "+-----------------+---+\n",
      "|churn_user_target|cnt|\n",
      "+-----------------+---+\n",
      "|                0|162|\n",
      "|                1| 22|\n",
      "+-----------------+---+\n",
      "\n"
     ]
    }
   ],
   "source": [
    "# unique churn/nonchurn user counts\n",
    "spark.sql(\"select churn_user_target, count(*) as cnt from \\\n",
    "          (select distinct userId,  churn_user_target from df_mini_non0_obv)\\\n",
    "          group by churn_user_target order by churn_user_target\").show()"
   ]
  },
  {
   "cell_type": "markdown",
   "metadata": {},
   "source": [
    "### Data Transformation and Explotary\n",
    "\n",
    "Transform raw log data into user - feature format dataframe. For example, for certain time period keep distinct values for each customer -- gender, aggregate (sum or average) -- total song played, pages visited etc, paid/free status change etc.\n",
    "\n",
    "Then perform some data exploratary between churn/stay group users.\n",
    "\n",
    "`4.` Transform dataframe into user - feature format. Total would be 184 rows and many columns."
   ]
  },
  {
   "cell_type": "code",
   "execution_count": 42,
   "metadata": {
    "scrolled": true
   },
   "outputs": [
    {
     "data": {
      "text/plain": [
       "184"
      ]
     },
     "execution_count": 42,
     "metadata": {},
     "output_type": "execute_result"
    }
   ],
   "source": [
    "# gender\n",
    "df_gender = spark.sql(\"select distinct userId, gender, churn_user_target from df_mini_non0_obv\")\n",
    "df_gender.count()"
   ]
  },
  {
   "cell_type": "code",
   "execution_count": 43,
   "metadata": {
    "scrolled": true
   },
   "outputs": [
    {
     "name": "stdout",
     "output_type": "stream",
     "text": [
      "+-------+-----------------+\n",
      "|summary|         ttl_song|\n",
      "+-------+-----------------+\n",
      "|  count|              183|\n",
      "|   mean|572.1584699453551|\n",
      "| stddev| 649.292211448894|\n",
      "|    min|                1|\n",
      "|    max|             5127|\n",
      "+-------+-----------------+\n",
      "\n"
     ]
    }
   ],
   "source": [
    "# Total songs played during the month\n",
    "df_song = spark.sql(\"select userId, count(song) as ttl_song\\\n",
    "                     from df_mini_non0_obv \\\n",
    "                     where song is not Null \\\n",
    "                     group by userId\")\n",
    "\n",
    "df_song.describe('ttl_song').show()"
   ]
  },
  {
   "cell_type": "code",
   "execution_count": 44,
   "metadata": {},
   "outputs": [
    {
     "name": "stdout",
     "output_type": "stream",
     "text": [
      "+----------+\n",
      "|opr_system|\n",
      "+----------+\n",
      "|  iPad; CP|\n",
      "|  Windows |\n",
      "|  compatib|\n",
      "|  Macintos|\n",
      "|  iPhone; |\n",
      "|  X11; Ubu|\n",
      "|  X11; Lin|\n",
      "+----------+\n",
      "\n"
     ]
    }
   ],
   "source": [
    "# userAgent\n",
    "df_useAgen = spark.sql(\"select distinct userId, userAgent, churn_user_target from df_mini_non0_obv\")\n",
    "remove_qot = udf(lambda x: x.replace(u'\"',''))\n",
    "substr_agent = udf(lambda x: x[13:21], StringType())\n",
    "df_useAgen = df_useAgen.withColumn(\"opr_system\", substr_agent(remove_qot(\"userAgent\")))\n",
    "df_useAgen.select(['opr_system']).dropDuplicates().show()"
   ]
  },
  {
   "cell_type": "code",
   "execution_count": 45,
   "metadata": {},
   "outputs": [
    {
     "data": {
      "text/plain": [
       "184"
      ]
     },
     "execution_count": 45,
     "metadata": {},
     "output_type": "execute_result"
    }
   ],
   "source": [
    "# location\n",
    "df_location = spark.sql(\"select distinct userId, location, churn_user_target from df_mini_non0_obv\")\n",
    "# extract State -- 37\n",
    "substr_state = udf(lambda x: x[-2:], StringType())\n",
    "df_location = df_location.withColumn(\"state\", substr_state(\"location\"))\n",
    "df_location.count()"
   ]
  },
  {
   "cell_type": "code",
   "execution_count": 46,
   "metadata": {},
   "outputs": [
    {
     "name": "stdout",
     "output_type": "stream",
     "text": [
      "+------+-----+----------+---------------+---------+-----+----+----+------+--------+-----------+-------------+--------+----------------+--------------+-----------+---------+-------+\n",
      "|userId|About|Add Friend|Add to Playlist|Downgrade|Error|Help|Home|Logout|NextSong|Roll Advert|Save Settings|Settings|Submit Downgrade|Submit Upgrade|Thumbs Down|Thumbs Up|Upgrade|\n",
      "+------+-----+----------+---------------+---------+-----+----+----+------+--------+-----------+-------------+--------+----------------+--------------+-----------+---------+-------+\n",
      "|200002|    2|         4|              6|        3|    0|   1|  14|     3|     267|          7|            0|       3|               0|             1|          6|       15|      2|\n",
      "|100010|    0|         3|              2|        0|    0|   1|   6|     2|     120|         22|            0|       0|               0|             0|          1|        6|      1|\n",
      "+------+-----+----------+---------------+---------+-----+----+----+------+--------+-----------+-------------+--------+----------------+--------------+-----------+---------+-------+\n",
      "only showing top 2 rows\n",
      "\n"
     ]
    }
   ],
   "source": [
    "# Pages\n",
    "# Use pivot table to transform them into user-page format and value as how many times user visited.\n",
    "# reshap page count -- userId as row and page as column, count as value\n",
    "df_page = mini_data_obv.groupby('userId').pivot('page').count()\n",
    "# fillna as 0s\n",
    "df_page = df_page.fillna(0)\n",
    "df_page.show(2)"
   ]
  },
  {
   "cell_type": "code",
   "execution_count": 47,
   "metadata": {},
   "outputs": [
    {
     "data": {
      "text/plain": [
       "184"
      ]
     },
     "execution_count": 47,
     "metadata": {},
     "output_type": "execute_result"
    }
   ],
   "source": [
    "df_page.count()"
   ]
  },
  {
   "cell_type": "code",
   "execution_count": 48,
   "metadata": {
    "scrolled": true
   },
   "outputs": [
    {
     "name": "stdout",
     "output_type": "stream",
     "text": [
      "root\n",
      " |-- userId: string (nullable = true)\n",
      " |-- About: long (nullable = true)\n",
      " |-- Add Friend: long (nullable = true)\n",
      " |-- Add to Playlist: long (nullable = true)\n",
      " |-- Downgrade: long (nullable = true)\n",
      " |-- Error: long (nullable = true)\n",
      " |-- Help: long (nullable = true)\n",
      " |-- Home: long (nullable = true)\n",
      " |-- Logout: long (nullable = true)\n",
      " |-- NextSong: long (nullable = true)\n",
      " |-- Roll Advert: long (nullable = true)\n",
      " |-- Save Settings: long (nullable = true)\n",
      " |-- Settings: long (nullable = true)\n",
      " |-- Submit Downgrade: long (nullable = true)\n",
      " |-- Submit Upgrade: long (nullable = true)\n",
      " |-- Thumbs Down: long (nullable = true)\n",
      " |-- Thumbs Up: long (nullable = true)\n",
      " |-- Upgrade: long (nullable = true)\n",
      "\n"
     ]
    }
   ],
   "source": [
    "# take a look page cols\n",
    "df_page.printSchema()"
   ]
  },
  {
   "cell_type": "code",
   "execution_count": 49,
   "metadata": {},
   "outputs": [
    {
     "name": "stdout",
     "output_type": "stream",
     "text": [
      "+-------+------------------+\n",
      "|summary|   avg_song_length|\n",
      "+-------+------------------+\n",
      "|  count|               183|\n",
      "|   mean|248.80327868852459|\n",
      "| stddev| 7.295534549021886|\n",
      "|    min|             222.0|\n",
      "|    max|             280.0|\n",
      "+-------+------------------+\n",
      "\n"
     ]
    }
   ],
   "source": [
    "# avg song length\n",
    "df_song_length = spark.sql(\"select userId, round(avg(length)) as avg_song_length\\\n",
    "                        from df_mini_non0_obv \\\n",
    "                        where song is not Null \\\n",
    "                        group by userId\")\n",
    "\n",
    "df_song_length.describe('avg_song_length').show()"
   ]
  },
  {
   "cell_type": "markdown",
   "metadata": {},
   "source": [
    "**Thoughts:**\n",
    "\n",
    "For \"level\", users might be paid/free level for the month, they could change from paid to free, free to paid in this month, maybe many times. So I created variables to track how many times each user from paid to free, from free to paid, and indicator of they staying paid/free for the whole month."
   ]
  },
  {
   "cell_type": "code",
   "execution_count": 50,
   "metadata": {},
   "outputs": [],
   "source": [
    "# detect level change\n",
    "# reference: https://fle.github.io/detect-value-changes-between-successive-lines-with-postgresql.html\n",
    "\n",
    "# mark level, prev_level, next_level and level change label and always paid or always free label\n",
    "\n",
    "df_level = spark.sql(\"select userId, ttl_paid2free, ttl_free2paid, \\\n",
    "                      case when ttl_lvl_free == 0 then 1 else 0 end as always_paid, \\\n",
    "                      case when ttl_lvl_paid == 0 then 1 else 0 end as always_free \\\n",
    "                      from  \\\n",
    "                      (select userId, sum(paid2free) as ttl_paid2free, sum(free2paid) as ttl_free2paid, \\\n",
    "                      sum(level_paid) as ttl_lvl_paid, sum(level_free) as ttl_lvl_free \\\n",
    "                      from \\\n",
    "                      (select userId, date, level, prev_level, next_level, page, hour, \\\n",
    "                       case when (prev_level == 'paid' and level == 'free') then 1 else 0 end as paid2free, \\\n",
    "                       case when (prev_level == 'free' and level == 'paid') then 1 else 0 end as free2paid, \\\n",
    "                       case when (level == 'paid') then 1 else 0 end as level_paid, \\\n",
    "                       case when (level == 'free') then 1 else 0 end as level_free \\\n",
    "                       from \\\n",
    "                       (select userId, date, level, page, hour, \\\n",
    "                       lag(level) OVER (ORDER BY userId, date) as prev_level, \\\n",
    "                       lead(level) OVER (ORDER BY userId,date) as next_level \\\n",
    "                       from df_mini_non0_obv) as a) as b \\\n",
    "                       group by userId) as c\")"
   ]
  },
  {
   "cell_type": "code",
   "execution_count": 51,
   "metadata": {},
   "outputs": [
    {
     "name": "stdout",
     "output_type": "stream",
     "text": [
      "+------+-------------+-------------+-----------+-----------+\n",
      "|userId|ttl_paid2free|ttl_free2paid|always_paid|always_free|\n",
      "+------+-------------+-------------+-----------+-----------+\n",
      "|    10|            0|            0|          1|          0|\n",
      "|   100|            0|            0|          1|          0|\n",
      "|100002|            0|            0|          1|          0|\n",
      "|100004|            3|            2|          0|          0|\n",
      "|100007|            0|            1|          1|          0|\n",
      "+------+-------------+-------------+-----------+-----------+\n",
      "only showing top 5 rows\n",
      "\n"
     ]
    }
   ],
   "source": [
    "df_level.show(5)"
   ]
  },
  {
   "cell_type": "code",
   "execution_count": 52,
   "metadata": {},
   "outputs": [
    {
     "data": {
      "text/plain": [
       "366"
      ]
     },
     "execution_count": 52,
     "metadata": {},
     "output_type": "execute_result"
    }
   ],
   "source": [
    "# method \n",
    "df_method = spark.sql(\"select distinct userId, method, churn_user_target from df_mini_non0_obv sort by userId\")\n",
    "df_method.count()"
   ]
  },
  {
   "cell_type": "code",
   "execution_count": 53,
   "metadata": {},
   "outputs": [
    {
     "name": "stdout",
     "output_type": "stream",
     "text": [
      "+------+\n",
      "|method|\n",
      "+------+\n",
      "|   PUT|\n",
      "|   GET|\n",
      "+------+\n",
      "\n"
     ]
    }
   ],
   "source": [
    "spark.sql(\"select distinct method from df_mini_non0_obv\").show()"
   ]
  },
  {
   "cell_type": "code",
   "execution_count": 54,
   "metadata": {
    "scrolled": true
   },
   "outputs": [
    {
     "data": {
      "text/plain": [
       "184"
      ]
     },
     "execution_count": 54,
     "metadata": {},
     "output_type": "execute_result"
    }
   ],
   "source": [
    "# registration -- drop since each user has an distinct regi number\n",
    "df_regi = spark.sql(\"select distinct userId, registration, churn_user_target from df_mini_non0_obv sort by userId\")\n",
    "df_regi.count()"
   ]
  },
  {
   "cell_type": "code",
   "execution_count": 55,
   "metadata": {
    "scrolled": true
   },
   "outputs": [
    {
     "data": {
      "text/plain": [
       "1619"
      ]
     },
     "execution_count": 55,
     "metadata": {},
     "output_type": "execute_result"
    }
   ],
   "source": [
    "# sessionId -- drop since too much level\n",
    "df_session = spark.sql(\"select distinct userId, sessionId, churn_user_target from df_mini_non0_obv sort by userId\")\n",
    "df_session.count()"
   ]
  },
  {
   "cell_type": "code",
   "execution_count": 56,
   "metadata": {},
   "outputs": [
    {
     "data": {
      "text/plain": [
       "435"
      ]
     },
     "execution_count": 56,
     "metadata": {},
     "output_type": "execute_result"
    }
   ],
   "source": [
    "# status -- need to figure out how the status changes for each user\n",
    "df_status = spark.sql(\"select distinct userId, status, churn_user_target from df_mini_non0_obv sort by userId\")\n",
    "df_status.count()"
   ]
  },
  {
   "cell_type": "code",
   "execution_count": 57,
   "metadata": {},
   "outputs": [
    {
     "name": "stdout",
     "output_type": "stream",
     "text": [
      "+------+\n",
      "|status|\n",
      "+------+\n",
      "|   307|\n",
      "|   404|\n",
      "|   200|\n",
      "+------+\n",
      "\n"
     ]
    }
   ],
   "source": [
    "spark.sql(\"select distinct status from df_mini_non0_obv\").show()"
   ]
  },
  {
   "cell_type": "code",
   "execution_count": 58,
   "metadata": {},
   "outputs": [],
   "source": [
    "# select distinct gender, state, opr system, total songs, pages,level-status and join them together\n",
    "\n",
    "df_fe = df_gender.join(df_location.select(['userId','state']), \"userId\")\\\n",
    "                 .join(df_useAgen.select(['userId','opr_system']), \"userId\")\\\n",
    "                 .join(df_song, \"userId\")\\\n",
    "                 .join(df_page, \"userId\")\\\n",
    "                 .join(df_song_length, \"userId\")\\\n",
    "                 .join(df_level, \"userId\")"
   ]
  },
  {
   "cell_type": "code",
   "execution_count": 59,
   "metadata": {
    "scrolled": false
   },
   "outputs": [
    {
     "name": "stdout",
     "output_type": "stream",
     "text": [
      "+------+------+-----------------+-----+----------+--------+-----+----------+---------------+---------+-----+----+----+------+--------+-----------+-------------+--------+----------------+--------------+-----------+---------+-------+---------------+-------------+-------------+-----------+-----------+\n",
      "|userId|gender|churn_user_target|state|opr_system|ttl_song|About|Add Friend|Add to Playlist|Downgrade|Error|Help|Home|Logout|NextSong|Roll Advert|Save Settings|Settings|Submit Downgrade|Submit Upgrade|Thumbs Down|Thumbs Up|Upgrade|avg_song_length|ttl_paid2free|ttl_free2paid|always_paid|always_free|\n",
      "+------+------+-----------------+-----+----------+--------+-----+----------+---------------+---------+-----+----+----+------+--------+-----------+-------------+--------+----------------+--------------+-----------+---------+-------+---------------+-------------+-------------+-----------+-----------+\n",
      "|100010|     F|                0|   CT|  iPhone; |     120|    0|         3|              2|        0|    0|   1|   6|     2|     120|         22|            0|       0|               0|             0|          1|        6|      1|          236.0|            1|            0|          0|          1|\n",
      "|200002|     M|                0|   WI|  iPhone; |     267|    2|         4|              6|        3|    0|   1|  14|     3|     267|          7|            0|       3|               0|             1|          6|       15|      2|          242.0|            1|            1|          0|          0|\n",
      "+------+------+-----------------+-----+----------+--------+-----+----------+---------------+---------+-----+----+----+------+--------+-----------+-------------+--------+----------------+--------------+-----------+---------+-------+---------------+-------------+-------------+-----------+-----------+\n",
      "only showing top 2 rows\n",
      "\n"
     ]
    }
   ],
   "source": [
    "df_fe.show(2)"
   ]
  },
  {
   "cell_type": "code",
   "execution_count": 61,
   "metadata": {},
   "outputs": [],
   "source": [
    "# replace space with '_' in column names \n",
    "# https://stackoverflow.com/questions/41655158/dynamically-rename-multiple-columns-in-pyspark-dataframe\n",
    "col_replace = {c:c.replace(' ', '_') for c in df_fe.columns if ' ' in c}\n",
    "df_fe = df_fe.select([col(c).alias(col_replace.get(c,c)) for c in df_fe.columns])\n",
    "\n",
    "# create and temp view\n",
    "df_fe.createOrReplaceTempView(\"mini_fe\")"
   ]
  },
  {
   "cell_type": "code",
   "execution_count": 62,
   "metadata": {},
   "outputs": [],
   "source": [
    "# Explore difference between churn/stay user\n",
    "# https://stackoverflow.com/questions/1823599/calculating-percentage-within-a-group\n",
    "\n",
    "# add if categorical / continous\n",
    "def cunt_bychurn_vara(vara):\n",
    "    \"\"\" Show variable's unique count, and proportion by vara and churn/stay.\n",
    "    INPUT:\n",
    "    vara: -- (string), variable need to be counted.\n",
    "    OUTPUT:\n",
    "    df -- (dataframe), vara and corresponding proportion / avg value\n",
    "    \"\"\"\n",
    "    \n",
    "    # check if categorical variable, if so then display proportions\n",
    "    if vara in [c[0] for c in df_fe.dtypes if c[1] == 'string']:\n",
    "        df = spark.sql(\"select {}, churn_user_target, count(*) as {}_cnt, \\\n",
    "                   round(count(*)/CAST( SUM(count(*)) over (partition by churn_user_target) as float), 2) as {}_pctg\\\n",
    "                   from mini_fe group by {}, churn_user_target \\\n",
    "                   order by  churn_user_target, {}\".format(vara,vara,vara,vara,vara))\n",
    "    # if is date then skip    \n",
    "    elif vara in [c[0] for c in df_fe.dtypes if c[1] == 'date']:\n",
    "        print('Input variable is date.')\n",
    "        \n",
    "    # if continous type like int, big int, float then display average between two groups\n",
    "    else: \n",
    "        df = spark.sql(\"select churn_user_target, round(avg({}),2) as avg_{}_mthly\\\n",
    "                   from mini_fe group by churn_user_target\".format(vara, vara))\n",
    "        \n",
    "    return df"
   ]
  },
  {
   "cell_type": "code",
   "execution_count": 63,
   "metadata": {},
   "outputs": [
    {
     "name": "stdout",
     "output_type": "stream",
     "text": [
      "+-----------------+-----------------------+\n",
      "|churn_user_target|avg_ttl_paid2free_mthly|\n",
      "+-----------------+-----------------------+\n",
      "|                1|                    0.5|\n",
      "|                0|                   0.65|\n",
      "+-----------------+-----------------------+\n",
      "\n"
     ]
    }
   ],
   "source": [
    "cunt_bychurn_vara('ttl_paid2free').show()"
   ]
  },
  {
   "cell_type": "code",
   "execution_count": 64,
   "metadata": {
    "scrolled": true
   },
   "outputs": [
    {
     "name": "stdout",
     "output_type": "stream",
     "text": [
      "+-----------------+---------------------+\n",
      "|churn_user_target|avg_always_free_mthly|\n",
      "+-----------------+---------------------+\n",
      "|                1|                 0.23|\n",
      "|                0|                 0.37|\n",
      "+-----------------+---------------------+\n",
      "\n"
     ]
    }
   ],
   "source": [
    "cunt_bychurn_vara('always_free').show()"
   ]
  },
  {
   "cell_type": "code",
   "execution_count": 65,
   "metadata": {},
   "outputs": [
    {
     "name": "stdout",
     "output_type": "stream",
     "text": [
      "+-----------------+-----------------------+\n",
      "|churn_user_target|avg_ttl_free2paid_mthly|\n",
      "+-----------------+-----------------------+\n",
      "|                1|                   0.77|\n",
      "|                0|                    0.6|\n",
      "+-----------------+-----------------------+\n",
      "\n"
     ]
    }
   ],
   "source": [
    "cunt_bychurn_vara('ttl_free2paid').show()"
   ]
  },
  {
   "cell_type": "code",
   "execution_count": 66,
   "metadata": {},
   "outputs": [
    {
     "name": "stdout",
     "output_type": "stream",
     "text": [
      "+-----------------+---------------------+\n",
      "|churn_user_target|avg_always_paid_mthly|\n",
      "+-----------------+---------------------+\n",
      "|                1|                 0.09|\n",
      "|                0|                 0.18|\n",
      "+-----------------+---------------------+\n",
      "\n"
     ]
    }
   ],
   "source": [
    "cunt_bychurn_vara('always_paid').show()"
   ]
  },
  {
   "cell_type": "code",
   "execution_count": 67,
   "metadata": {},
   "outputs": [
    {
     "name": "stdout",
     "output_type": "stream",
     "text": [
      "+------+-----------------+----------+-----------+\n",
      "|gender|churn_user_target|gender_cnt|gender_pctg|\n",
      "+------+-----------------+----------+-----------+\n",
      "|     F|                0|        77|       0.48|\n",
      "|     M|                0|        84|       0.52|\n",
      "|     F|                1|        11|        0.5|\n",
      "|     M|                1|        11|        0.5|\n",
      "+------+-----------------+----------+-----------+\n",
      "\n"
     ]
    }
   ],
   "source": [
    "cunt_bychurn_vara('gender').show()"
   ]
  },
  {
   "cell_type": "code",
   "execution_count": 68,
   "metadata": {},
   "outputs": [
    {
     "name": "stdout",
     "output_type": "stream",
     "text": [
      "+-----------------+---------------------+\n",
      "|churn_user_target|avg_Thumbs_Down_mthly|\n",
      "+-----------------+---------------------+\n",
      "|                1|                11.09|\n",
      "|                0|                 6.01|\n",
      "+-----------------+---------------------+\n",
      "\n"
     ]
    }
   ],
   "source": [
    "cunt_bychurn_vara(\"Thumbs_Down\").show()"
   ]
  },
  {
   "cell_type": "code",
   "execution_count": 69,
   "metadata": {},
   "outputs": [
    {
     "name": "stdout",
     "output_type": "stream",
     "text": [
      "+-----------------+------------------+\n",
      "|churn_user_target|avg_ttl_song_mthly|\n",
      "+-----------------+------------------+\n",
      "|                1|             742.5|\n",
      "|                0|            548.88|\n",
      "+-----------------+------------------+\n",
      "\n"
     ]
    }
   ],
   "source": [
    "cunt_bychurn_vara(\"ttl_song\").show()"
   ]
  },
  {
   "cell_type": "code",
   "execution_count": 70,
   "metadata": {},
   "outputs": [
    {
     "name": "stdout",
     "output_type": "stream",
     "text": [
      "+-----------------+-------------------+\n",
      "|churn_user_target|avg_Thumbs_Up_mthly|\n",
      "+-----------------+-------------------+\n",
      "|                1|              37.18|\n",
      "|                0|              31.83|\n",
      "+-----------------+-------------------+\n",
      "\n"
     ]
    }
   ],
   "source": [
    "cunt_bychurn_vara(\"Thumbs_Up\").show()"
   ]
  },
  {
   "cell_type": "code",
   "execution_count": 71,
   "metadata": {},
   "outputs": [
    {
     "name": "stdout",
     "output_type": "stream",
     "text": [
      "+-----------------+--------------------------+\n",
      "|churn_user_target|avg_Submit_Downgrade_mthly|\n",
      "+-----------------+--------------------------+\n",
      "|                1|                      0.27|\n",
      "|                0|                      0.18|\n",
      "+-----------------+--------------------------+\n",
      "\n"
     ]
    }
   ],
   "source": [
    "cunt_bychurn_vara(\"Submit_Downgrade\").show()"
   ]
  },
  {
   "cell_type": "code",
   "execution_count": 72,
   "metadata": {},
   "outputs": [
    {
     "name": "stdout",
     "output_type": "stream",
     "text": [
      "+-----------------+---------------+\n",
      "|churn_user_target|avg_Error_mthly|\n",
      "+-----------------+---------------+\n",
      "|                1|           0.41|\n",
      "|                0|           0.67|\n",
      "+-----------------+---------------+\n",
      "\n"
     ]
    }
   ],
   "source": [
    "cunt_bychurn_vara(\"Error\").show()"
   ]
  },
  {
   "cell_type": "markdown",
   "metadata": {},
   "source": [
    "`5.` Plot variable distribution between churn/stay groups"
   ]
  },
  {
   "cell_type": "code",
   "execution_count": 73,
   "metadata": {},
   "outputs": [],
   "source": [
    "# Explore difference between churn/stay user\n",
    "# https://stackoverflow.com/questions/1823599/calculating-percentage-within-a-group\n",
    "\n",
    "# add if categorical / continous\n",
    "def plot_churn_vara(vara):\n",
    "    \"\"\" Show variable's unique count, and proportion by vara and churn/stay.\n",
    "    INPUT:\n",
    "    vara: -- (string), variable need to be counted.\n",
    "    OUTPUT:\n",
    "    plot corresponding proportion / avg value by churn/stay\n",
    "    \"\"\"\n",
    "    \n",
    "    # convert spark df to pandas\n",
    "    df_fe_pd = df_fe.toPandas()\n",
    "    \n",
    "    # check if categorical variable, if so then display proportions\n",
    "    if vara in [c[0] for c in df_fe.dtypes if c[1] == 'string']:\n",
    "        df_fe_pd.groupby(['churn_user_target',vara])['userId'].count().plot(kind = 'bar', color = 'g')\n",
    "        plt.ylabel('{}_count'.format(vara))\n",
    "        plt.show()    \n",
    "        \n",
    "    # if is date then skip    \n",
    "    elif vara in [c[0] for c in df_fe.dtypes if c[1] == 'date']:\n",
    "        print('Input variable is date.')\n",
    "        \n",
    "    # if continous type like int, big int, float then display average between two groups\n",
    "    else: \n",
    "        df_fe_pd.groupby(['churn_user_target'])[vara].mean().plot(kind = 'bar')\n",
    "        plt.ylabel('monthly_avg_{}'.format(vara))\n",
    "        plt.show()\n",
    "        "
   ]
  },
  {
   "cell_type": "code",
   "execution_count": 74,
   "metadata": {},
   "outputs": [
    {
     "data": {
      "image/png": "[encoded data removed]",
      "text/plain": [
       "<Figure size 432x288 with 1 Axes>"
      ]
     },
     "metadata": {
      "needs_background": "light"
     },
     "output_type": "display_data"
    }
   ],
   "source": [
    "plot_churn_vara('gender')"
   ]
  },
  {
   "cell_type": "code",
   "execution_count": 75,
   "metadata": {},
   "outputs": [
    {
     "data": {
      "image/png": "[encoded data removed]",
      "text/plain": [
       "<Figure size 432x288 with 1 Axes>"
      ]
     },
     "metadata": {
      "needs_background": "light"
     },
     "output_type": "display_data"
    }
   ],
   "source": [
    "plot_churn_vara('ttl_song')"
   ]
  },
  {
   "cell_type": "code",
   "execution_count": 76,
   "metadata": {},
   "outputs": [
    {
     "data": {
      "image/png": "[encoded data removed]",
      "text/plain": [
       "<Figure size 432x288 with 1 Axes>"
      ]
     },
     "metadata": {
      "needs_background": "light"
     },
     "output_type": "display_data"
    }
   ],
   "source": [
    "plot_churn_vara('Thumbs_Down')"
   ]
  },
  {
   "cell_type": "code",
   "execution_count": 77,
   "metadata": {},
   "outputs": [
    {
     "data": {
      "image/png": "[encoded data removed]",
      "text/plain": [
       "<Figure size 432x288 with 1 Axes>"
      ]
     },
     "metadata": {
      "needs_background": "light"
     },
     "output_type": "display_data"
    }
   ],
   "source": [
    "plot_churn_vara('Downgrade')"
   ]
  },
  {
   "cell_type": "code",
   "execution_count": 78,
   "metadata": {},
   "outputs": [
    {
     "data": {
      "image/png": "[encoded data removed]",
      "text/plain": [
       "<Figure size 432x288 with 1 Axes>"
      ]
     },
     "metadata": {
      "needs_background": "light"
     },
     "output_type": "display_data"
    }
   ],
   "source": [
    "plot_churn_vara('Error')"
   ]
  },
  {
   "cell_type": "markdown",
   "metadata": {},
   "source": [
    "# Feature Engineering\n",
    "\n",
    "Now we get cleaned user-feature dataset with each row represents an unique user and each feature shows their demographics or aggregation activities of last month. But before fitting into machine learning model, we need to do final data processing. We need to convert categorical features into dummy values and scale continuous features.\n",
    "\n",
    "**Categorical Features**\n",
    "\n",
    "First, we need to use StringIndexer to index categorical values. Then we will use OneHotEncoder to convert the indexer into dummy vectors.\n",
    "\n",
    "**Continuous Features**\n",
    "Scale the numerical data before fitting into machine learning models. StandardScaler will be applied"
   ]
  },
  {
   "cell_type": "code",
   "execution_count": 81,
   "metadata": {
    "scrolled": true
   },
   "outputs": [
    {
     "data": {
      "text/plain": [
       "[('userId', 'string'),\n",
       " ('gender', 'string'),\n",
       " ('churn_user_target', 'int'),\n",
       " ('state', 'string'),\n",
       " ('opr_system', 'string'),\n",
       " ('ttl_song', 'bigint'),\n",
       " ('About', 'bigint'),\n",
       " ('Add_Friend', 'bigint'),\n",
       " ('Add_to_Playlist', 'bigint'),\n",
       " ('Downgrade', 'bigint'),\n",
       " ('Error', 'bigint'),\n",
       " ('Help', 'bigint'),\n",
       " ('Home', 'bigint'),\n",
       " ('Logout', 'bigint'),\n",
       " ('NextSong', 'bigint'),\n",
       " ('Roll_Advert', 'bigint'),\n",
       " ('Save_Settings', 'bigint'),\n",
       " ('Settings', 'bigint'),\n",
       " ('Submit_Downgrade', 'bigint'),\n",
       " ('Submit_Upgrade', 'bigint'),\n",
       " ('Thumbs_Down', 'bigint'),\n",
       " ('Thumbs_Up', 'bigint'),\n",
       " ('Upgrade', 'bigint'),\n",
       " ('avg_song_length', 'double'),\n",
       " ('ttl_paid2free', 'bigint'),\n",
       " ('ttl_free2paid', 'bigint'),\n",
       " ('always_paid', 'int'),\n",
       " ('always_free', 'int')]"
      ]
     },
     "execution_count": 81,
     "metadata": {},
     "output_type": "execute_result"
    }
   ],
   "source": [
    "df_fe.dtypes"
   ]
  },
  {
   "cell_type": "code",
   "execution_count": 82,
   "metadata": {
    "scrolled": true
   },
   "outputs": [],
   "source": [
    "### Dealing with Categorical Variables\n",
    "# https://docs.databricks.com/spark/latest/mllib/binary-classification-mllib-pipelines.html\n",
    "\n",
    "# collect categorical variables\n",
    "cate_cols = [c[0] for c in df_fe.dtypes if (c[1] == 'string' and c[0] not in ['userId','state'])]\n",
    "\n",
    "# pipeline stages\n",
    "stages = []\n",
    "\n",
    "for cat in cate_cols:\n",
    "    # Indexing on categorical variables\n",
    "    string_indexer = StringIndexer(inputCol = cat, outputCol = cat + \"Index\")\n",
    "    \n",
    "    # OneHotEncoding on categorical variables to dummy vectors\n",
    "    dum_encoder = OneHotEncoder(inputCol = string_indexer.getOutputCol(), outputCol = cat + \"classVec\")\n",
    "    \n",
    "    stages += [string_indexer, dum_encoder]\n",
    "    "
   ]
  },
  {
   "cell_type": "code",
   "execution_count": 83,
   "metadata": {},
   "outputs": [],
   "source": [
    "### Dealing with numerical variables\n",
    "# https://blog.usejournal.com/tutorial-on-pyspark-transformations-and-mlib-7ed289a9e843\n",
    "\n",
    "# collect continous variable\n",
    "conti_cols = [c[0] for c in df_fe.dtypes if c[1] in ('int','bigint','double') and c[0] != 'churn_user_target']\n",
    "\n",
    "# assemble continous variables\n",
    "conti_assemb = VectorAssembler(inputCols = conti_cols, outputCol = \"conti_varas_vec\")\n",
    "cat_scaler = StandardScaler(inputCol = \"conti_varas_vec\", outputCol = \"conti_scaled_feats\")\n",
    "stages += [conti_assemb, cat_scaler]"
   ]
  },
  {
   "cell_type": "code",
   "execution_count": 84,
   "metadata": {
    "scrolled": true
   },
   "outputs": [],
   "source": [
    "# conver target variable into label indices\n",
    "label_strIdx = StringIndexer(inputCol = \"churn_user_target\", outputCol = \"label\")\n",
    "stages += [label_strIdx]"
   ]
  },
  {
   "cell_type": "code",
   "execution_count": 85,
   "metadata": {
    "scrolled": true
   },
   "outputs": [],
   "source": [
    "# Assemble vectors together\n",
    "assembler_varas = [c + \"Index\" for c in cate_cols] + [\"conti_scaled_feats\"]\n",
    "# Apply vectorAssembler\n",
    "assembler = VectorAssembler(inputCols = assembler_varas, outputCol = \"features\")\n",
    "stages += [assembler]"
   ]
  },
  {
   "cell_type": "code",
   "execution_count": 86,
   "metadata": {},
   "outputs": [],
   "source": [
    "# ML Prediction Model\n",
    "model = RandomForestClassifier(featuresCol = \"features\", labelCol = \"label\", numTrees = 10)# LogisticRegression(featuresCol = \"features\", labelCol = \"label\")#\n",
    "stages += [model]"
   ]
  },
  {
   "cell_type": "code",
   "execution_count": 87,
   "metadata": {},
   "outputs": [],
   "source": [
    "# Compile pipeline\n",
    "pipeline = Pipeline().setStages(stages)"
   ]
  },
  {
   "cell_type": "code",
   "execution_count": 88,
   "metadata": {},
   "outputs": [],
   "source": [
    "# For next part using convenience, Let's create a pipeline function\n",
    "\n",
    "def ml_pipeline(df, model):\n",
    "    \"\"\"Build feature vector processing and ML pipeline for prediction ready.\n",
    "    INPUT:\n",
    "    df -- (dataframe): Dataframe with users as rows and features as columns.\n",
    "    model : machine learning alogrithm.\n",
    "    OUTPUT:\n",
    "    pipeline -- (Pipeline): Feature processing and ML pipeline\n",
    "    \"\"\"\n",
    "    \n",
    "    ### Dealing with Categorical Variables\n",
    "    # collect categorical variables\n",
    "    cate_cols = [c[0] for c in df.dtypes if (c[1] == 'string' and c[0] not in ['userId','state'])]\n",
    "    # pipeline stages\n",
    "    stages = []\n",
    "\n",
    "    for cat in cate_cols:\n",
    "        # Indexing on categorical variables\n",
    "        string_indexer = StringIndexer(inputCol = cat, outputCol = cat + \"Index\")\n",
    "        # OneHotEncoding on categorical variables to dummy vectors\n",
    "        dum_encoder = OneHotEncoder(inputCol = string_indexer.getOutputCol(), outputCol = cat + \"classVec\")\n",
    "        # update stage\n",
    "        stages += [string_indexer, dum_encoder]\n",
    "\n",
    "    ### Dealing with numerical variables\n",
    "    # collect continous variable\n",
    "    conti_cols = [c[0] for c in df.dtypes if c[1] in ('int','bigint','double') and c[0] != 'churn_user_target']\n",
    "    # assemble continous variables\n",
    "    conti_assemb = VectorAssembler(inputCols = conti_cols, outputCol = \"conti_varas_vec\")\n",
    "    # scale continous variables\n",
    "    cat_scaler = StandardScaler(inputCol = \"conti_varas_vec\", outputCol = \"conti_scaled_feats\")\n",
    "    # update satage\n",
    "    stages += [conti_assemb, cat_scaler]\n",
    "    \n",
    "    \n",
    "    ### conver target variable into label indices\n",
    "    label_strIdx = StringIndexer(inputCol = \"churn_user_target\", outputCol = \"label\")\n",
    "    # update stage\n",
    "    stages += [label_strIdx]\n",
    "    \n",
    "    # Assemble vectors together\n",
    "    assembler_varas = [c + \"Index\" for c in cate_cols] + [\"conti_scaled_feats\"]\n",
    "    # Apply vectorAssembler\n",
    "    assembler = VectorAssembler(inputCols = assembler_varas, outputCol = \"features\")\n",
    "    # Update stage\n",
    "    stages += [assembler]\n",
    "    \n",
    "    ### ML model\n",
    "    ml_model  = model\n",
    "    stages += [ml_model]\n",
    "    \n",
    "    ### Compile pipeline\n",
    "    pipeline = Pipeline().setStages(stages)\n",
    "\n",
    "    return pipeline"
   ]
  },
  {
   "cell_type": "markdown",
   "metadata": {},
   "source": [
    "# Modeling\n",
    "\n",
    "\n",
    "1. Initialize the model will be used in the model building.\n",
    "2. Call pipeline by feeding feature engineered dataset and model.\n",
    "3. Split train test dataset.\n",
    "4. Set paramGrid search candidates and use TrainValidationSplit to split trani and validation set to evaluate model.\n",
    "5. Extract the best model from the parameter search from last step and do prediction on the test set.\n",
    "6. Also use F1 metric to evaluate predicted performance.\n",
    "7. Try Random Forest and LogisticRegression."
   ]
  },
  {
   "cell_type": "code",
   "execution_count": 19,
   "metadata": {},
   "outputs": [],
   "source": [
    "model = RandomForestClassifier(featuresCol = \"features\", labelCol = \"label\")\n",
    "pipeline = ml_pipeline(df_fe, model)"
   ]
  },
  {
   "cell_type": "code",
   "execution_count": 20,
   "metadata": {},
   "outputs": [],
   "source": [
    "# split train test \n",
    "train, test = df_fe.randomSplit([0.8, 0.2], seed = 41)"
   ]
  },
  {
   "cell_type": "code",
   "execution_count": 21,
   "metadata": {},
   "outputs": [],
   "source": [
    "paramGrid = ParamGridBuilder() \\\n",
    "        .addGrid(model.numTrees, [10, 20]) \\\n",
    "        .build()"
   ]
  },
  {
   "cell_type": "code",
   "execution_count": 22,
   "metadata": {},
   "outputs": [],
   "source": [
    "# split train-validation for finding the best param \n",
    "train_val = TrainValidationSplit(estimator = pipeline,\n",
    "                           estimatorParamMaps = paramGrid,\n",
    "                           evaluator = BinaryClassificationEvaluator(),\n",
    "                           trainRatio = 0.7)\n",
    "\n",
    "ml_model = train_val.fit(train)"
   ]
  },
  {
   "cell_type": "code",
   "execution_count": 23,
   "metadata": {},
   "outputs": [
    {
     "data": {
      "text/plain": [
       "[0.5625000000000002, 0.7916666666666667]"
      ]
     },
     "execution_count": 23,
     "metadata": {},
     "output_type": "execute_result"
    }
   ],
   "source": [
    "ml_model.validationMetrics"
   ]
  },
  {
   "cell_type": "code",
   "execution_count": 24,
   "metadata": {},
   "outputs": [],
   "source": [
    "ml_model_best = ml_model.bestModel"
   ]
  },
  {
   "cell_type": "code",
   "execution_count": 25,
   "metadata": {},
   "outputs": [],
   "source": [
    "# test result\n",
    "result = ml_model_best.transform(test)"
   ]
  },
  {
   "cell_type": "code",
   "execution_count": 16,
   "metadata": {},
   "outputs": [
    {
     "data": {
      "text/plain": [
       "0.6578947368421053"
      ]
     },
     "execution_count": 16,
     "metadata": {},
     "output_type": "execute_result"
    }
   ],
   "source": [
    "# Evaluate on AUC score\n",
    "evaluator = BinaryClassificationEvaluator()\n",
    "evaluator.evaluate(result)"
   ]
  },
  {
   "cell_type": "code",
   "execution_count": null,
   "metadata": {
    "scrolled": true
   },
   "outputs": [],
   "source": [
    "# Evaluate on F1 score\n",
    "evaluator = MulticlassClassificationEvaluator(\n",
    "    labelCol=\"label\", predictionCol=\"prediction\", metricName=\"f1\")\n",
    "\n",
    "evaluator.evaluate(result)"
   ]
  },
  {
   "cell_type": "markdown",
   "metadata": {},
   "source": [
    "* Compile above steps together into a model contruct function"
   ]
  },
  {
   "cell_type": "code",
   "execution_count": 12,
   "metadata": {},
   "outputs": [],
   "source": [
    "def model_contruct(df, model, paramGrid, evaluator):\n",
    "    \"\"\"Split train, test dataset. Grid Search best model by using TrainValidationSplit and do prediction on test set.\n",
    "    \n",
    "    INPUT:\n",
    "    df -- (dataframe): Dataframe with users as rows and features as columns.\n",
    "    model : machine learning alogrithm.\n",
    "    paramGrid: parameters for grid search.\n",
    "    evaluator : The evaluation method.\n",
    "    \n",
    "    OUTPUT:\n",
    "    evaluator_val: model performance on validation dataset.\n",
    "    evaluator_test: model performance on test dataset.\n",
    "    \"\"\"\n",
    "    # build data process ml pipeline \n",
    "    pipeline = ml_pipeline(df, model)\n",
    "    \n",
    "    # split train test \n",
    "    train, test = df.randomSplit([0.8, 0.2], seed = 41)\n",
    "    \n",
    "    # split train-validation for finding the best param \n",
    "    train_val_model = TrainValidationSplit(estimator = pipeline,\n",
    "                               estimatorParamMaps = paramGrid,\n",
    "                               evaluator = evaluator,\n",
    "                               trainRatio = 0.7)\n",
    "    \n",
    "    # train model\n",
    "    ml_model = train_val_model.fit(train)\n",
    "    \n",
    "    # get each parameter setting's evaluation result list\n",
    "    evaluator_val = ml_model.validationMetrics\n",
    "    \n",
    "    # extract best model\n",
    "    ml_model_best = ml_model.bestModel\n",
    "    \n",
    "    # test result\n",
    "    result = ml_model_best.transform(test)\n",
    "    \n",
    "    # set evaluator\n",
    "    evaluator = evaluator\n",
    "    \n",
    "    # get evaluation result\n",
    "    evaluator_test = evaluator.evaluate(result)\n",
    "    \n",
    "    return evaluator_val, evaluator_test"
   ]
  },
  {
   "cell_type": "code",
   "execution_count": 13,
   "metadata": {},
   "outputs": [],
   "source": [
    "# Let's try random forest \n",
    "\n",
    "rf = RandomForestClassifier(featuresCol = \"features\", labelCol = \"label\")#LogisticRegression(featuresCol = \"features\", labelCol = \"label\")\n",
    "\n",
    "paramGrid = ParamGridBuilder() \\\n",
    "        .addGrid(rf.numTrees, [10, 20]) \\\n",
    "        .build()\n",
    "\n",
    "rf_val_result, rf_test_result = model_contruct(df_fe, rf, paramGrid, BinaryClassificationEvaluator())"
   ]
  },
  {
   "cell_type": "code",
   "execution_count": 14,
   "metadata": {},
   "outputs": [
    {
     "data": {
      "text/plain": [
       "[0.5625000000000002, 0.7916666666666667]"
      ]
     },
     "execution_count": 14,
     "metadata": {},
     "output_type": "execute_result"
    }
   ],
   "source": [
    "rf_val_result"
   ]
  },
  {
   "cell_type": "code",
   "execution_count": 15,
   "metadata": {},
   "outputs": [
    {
     "data": {
      "text/plain": [
       "0.8552631578947368"
      ]
     },
     "execution_count": 15,
     "metadata": {},
     "output_type": "execute_result"
    }
   ],
   "source": [
    "rf_test_result"
   ]
  },
  {
   "cell_type": "code",
   "execution_count": 16,
   "metadata": {},
   "outputs": [],
   "source": [
    "# Then try Logistic Regression\n",
    "\n",
    "lr = LogisticRegression(featuresCol = \"features\", labelCol = \"label\")#LogisticRegression(featuresCol = \"features\", labelCol = \"label\")\n",
    "\n",
    "paramGrid = ParamGridBuilder() \\\n",
    "        .addGrid(lr.maxIter, [10, 20]) \\\n",
    "        .build()\n",
    "\n",
    "lr_val_result, lr_test_result = model_contruct(df_fe, lr, paramGrid, BinaryClassificationEvaluator())"
   ]
  },
  {
   "cell_type": "code",
   "execution_count": 17,
   "metadata": {},
   "outputs": [
    {
     "data": {
      "text/plain": [
       "[0.8402777777777778, 0.9027777777777778]"
      ]
     },
     "execution_count": 17,
     "metadata": {},
     "output_type": "execute_result"
    }
   ],
   "source": [
    "lr_val_result"
   ]
  },
  {
   "cell_type": "code",
   "execution_count": 18,
   "metadata": {},
   "outputs": [
    {
     "data": {
      "text/plain": [
       "0.8289473684210527"
      ]
     },
     "execution_count": 18,
     "metadata": {},
     "output_type": "execute_result"
    }
   ],
   "source": [
    "lr_test_result"
   ]
  },
  {
   "cell_type": "code",
   "execution_count": 26,
   "metadata": {},
   "outputs": [],
   "source": [
    "# Performance on F1 Score\n",
    "lr = LogisticRegression(featuresCol = \"features\", labelCol = \"label\")\n",
    "\n",
    "paramGrid = ParamGridBuilder() \\\n",
    "        .addGrid(lr.maxIter, [10, 20]) \\\n",
    "        .build()\n",
    "\n",
    "lr_val_result, lr_test_result = model_contruct(df_fe, lr, paramGrid, \\\n",
    "                                               MulticlassClassificationEvaluator(labelCol=\"label\", predictionCol=\"prediction\", metricName=\"f1\"))\n",
    "\n"
   ]
  },
  {
   "cell_type": "code",
   "execution_count": 27,
   "metadata": {},
   "outputs": [
    {
     "data": {
      "text/plain": [
       "[0.9040000000000001, 0.9201565557729942]"
      ]
     },
     "execution_count": 27,
     "metadata": {},
     "output_type": "execute_result"
    }
   ],
   "source": [
    "lr_val_result"
   ]
  },
  {
   "cell_type": "code",
   "execution_count": 28,
   "metadata": {},
   "outputs": [
    {
     "data": {
      "text/plain": [
       "0.9129870129870131"
      ]
     },
     "execution_count": 28,
     "metadata": {},
     "output_type": "execute_result"
    }
   ],
   "source": [
    "lr_test_result"
   ]
  },
  {
   "cell_type": "markdown",
   "metadata": {},
   "source": [
    "**Discussion**\n",
    "\n",
    "The AUC score of random forest and Logistic Regression predictions on test set are both above 0.8. which is pretty good. F1 score of logistic Regression is abot 0.91, which is also good. Considering the performance stable on both validation and testing set, Logitic Regression's performance is better than Random Forest. I think it might due to the high imbalance on the target distribution, which Logistic Regression could do a good job.\n",
    "\n",
    "However, due to the limited size of this dataset (only about 200 users included), the result might be very unstable if we change train, test dataset. \n",
    "\n",
    "**To be Improvemed**\n",
    "1. Re-analyze the whole process on the full size dataset. The whole dataset user log scenario might be very different with the small one. \n",
    "2. Set spark cluster on AWS EMR, which allow to access the full dataset in S3 and alos could boost calculation speed.\n",
    "3. Continue to extract more useful features and try more algorithms and parameter tunings."
   ]
  },
  {
   "cell_type": "markdown",
   "metadata": {},
   "source": [
    "# Final Steps\n",
    "\n",
    "After above exploratory I will compile all the necessary steps together for future scaling using.\n",
    "Include:\n",
    "* Data Loading and simple cleaning --    `data_prep(data_path)`\n",
    "* Data Transformation --    `feature_engineer(df)`\n",
    "* Feature Processing and ML pipline --   `ml_pipeline(df, model)`\n",
    "* Model Tranining and Predition --   `model_contruct(df_fe,model,paramGrid,evaluator)`"
   ]
  },
  {
   "cell_type": "markdown",
   "metadata": {},
   "source": [
    "`1.` Data Loading and simple cleaning"
   ]
  },
  {
   "cell_type": "code",
   "execution_count": 3,
   "metadata": {},
   "outputs": [],
   "source": [
    "def data_prep(data_path):\n",
    "    \"\"\"Load raw log date of sparkify and define churn, separate observation and target data.\n",
    "    INPUT: data_path -- (str) : location of the file\n",
    "    OUTPUT: df_prep -- (dataframe): dataframe after cleaning null userIds\n",
    "    \"\"\"\n",
    "    \n",
    "    ### Load raw data\n",
    "    # read raw data\n",
    "    df = spark.read.json(data_path)\n",
    "    # Filter out userId is null records\n",
    "    df = df.filter(df.userId != '')\n",
    "    \n",
    "    \n",
    "   ### Define churn \n",
    "\n",
    "    # define churn function -- user cancellation confirmation as criteria\n",
    "    cancellation_event = udf(lambda x: 1 if x == 'Cancellation Confirmation' else 0, IntegerType())\n",
    "    # apply churn function\n",
    "    df = df.withColumn(\"churn\", cancellation_event(\"page\"))   \n",
    "    # fill churn user na as 0s\n",
    "    df = df.na.fill({'churn': 0})\n",
    "    \n",
    "    ### Generate time related variable\n",
    "    # get hour, day, date from ts\n",
    "    ts_to_hour = udf(lambda x: datetime.fromtimestamp(x / 1000.0).hour)\n",
    "    df = df.withColumn(\"hour\",ts_to_hour(\"ts\"))\n",
    "    ts_to_day = udf(lambda x: datetime.fromtimestamp(x / 1000.0).day)\n",
    "    df = df.withColumn(\"day\",ts_to_day(\"ts\"))\n",
    "    df = df.withColumn(\"date\",from_unixtime(df.ts/1000).cast(DateType()))\n",
    "    \n",
    "    ### segment obersavation and target data\n",
    "    # create sql view\n",
    "    df.createOrReplaceTempView(\"whole_data\")      \n",
    "    ## obersavation\n",
    "    # set observation records\n",
    "    df_obv = spark.sql(\"select * from whole_data \\\n",
    "                        where date >= '2018-10-01' and date < '2018-11-01'\")\n",
    "    # get unique churn users\n",
    "    churn_user_obv = df_obv.select(['userId']).where(df_obv.churn == 1).dropDuplicates()\n",
    "    # assign new churn user label to churn users\n",
    "    churn_user_obv = churn_user_obv.withColumn(\"churn_user_obv\", lit(1))\n",
    "    # join churn user back to original table and got an label\n",
    "    df_obv = df_obv.join(churn_user_obv, \"userId\", how = 'outer')\n",
    "    # remove users records who churn between 2018-10-01 and 2018-11-01\n",
    "    df_obv = df_obv.where(col('churn_user_obv').isNull())\n",
    "    \n",
    "    ## target\n",
    "    df_target = spark.sql(\"select * from whole_data \\\n",
    "                          where date >= '2018-11-01' and date < '2018-12-01'\")\n",
    "    # unique users churned during the target period\n",
    "    churn_user_target = df_target.select(['userId']).where(df_target.churn == 1).dropDuplicates()\n",
    "    # assign new churn user label to churn users\n",
    "    churn_user_target = churn_user_target.withColumn(\"churn_user_target\", lit(1))\n",
    "    \n",
    "    ## join observation and target\n",
    "    # join churn user back to observal table and got an label\n",
    "    df_prep = df_obv.join(churn_user_target, \"userId\", how = 'outer')\n",
    "\n",
    "    # fill na with 0s in the observational dataset\n",
    "    df_prep = df_prep.fillna(0, subset = ['churn_user_target'])\n",
    "\n",
    "    return df_prep\n"
   ]
  },
  {
   "cell_type": "markdown",
   "metadata": {},
   "source": [
    "`2.` Data Transformation"
   ]
  },
  {
   "cell_type": "code",
   "execution_count": 4,
   "metadata": {},
   "outputs": [],
   "source": [
    "def feature_engineer(df):\n",
    "    \"\"\"Data transformation and feature processing from loaded churn defined raw data \n",
    "       into model ready dataset.\n",
    "    INPUT: \n",
    "    df -- (dataframe): Loaded and churn defined raw datafrme\n",
    "    \n",
    "    OUTPUT: \n",
    "    df_fe -- (dataframe): Processed dataframe with users as rows and features as columns.\n",
    "    \"\"\"\n",
    "    # create temp view\n",
    "    df.createOrReplaceTempView(\"whole_data\")     \n",
    "    \n",
    "    ## gender by userId\n",
    "    df_gender = spark.sql(\"select distinct userId, gender, churn_user_target from whole_data\")\n",
    "    \n",
    "    ## location by userId\n",
    "    df_location = spark.sql(\"select distinct userId, location, churn_user_target from whole_data\")\n",
    "    # extract State -- 37\n",
    "    substr_state = udf(lambda x: x[-2:], StringType())\n",
    "    df_location = df_location.withColumn(\"state\", substr_state(\"location\"))\n",
    "    \n",
    "    ## userAgent\n",
    "    df_useAgen = spark.sql(\"select distinct userId, userAgent, churn_user_target from whole_data\")\n",
    "    remove_qot = udf(lambda x: x.replace(u'\"',''))\n",
    "    substr_agent = udf(lambda x: x[13:21], StringType())\n",
    "    # extract oprating system\n",
    "    df_useAgen = df_useAgen.withColumn(\"opr_system\", substr_agent(remove_qot(\"userAgent\")))    \n",
    "\n",
    "    ## Total songs played during the month\n",
    "    df_song = spark.sql(\"select userId, count(song) as ttl_song\\\n",
    "                         from whole_data \\\n",
    "                         where song is not Null \\\n",
    "                         group by userId\")\n",
    "    \n",
    "    ## Pages\n",
    "    # reshap page count -- userId as row and page as column, count as value\n",
    "    df_page = df.groupby('userId').pivot('page').count()\n",
    "    # fillna as 0s\n",
    "    df_page = df_page.fillna(0)\n",
    "    \n",
    "    ## Song length\n",
    "    df_song_length = spark.sql(\"select userId, round(avg(length)) as avg_song_length\\\n",
    "                            from whole_data \\\n",
    "                            where song is not Null \\\n",
    "                            group by userId\")\n",
    "    \n",
    "    # https://fle.github.io/detect-value-changes-between-successive-lines-with-postgresql.html\n",
    "\n",
    "    # mark level, prev_level, next_level and level change label\n",
    "    df_level = spark.sql(\"select userId, ttl_paid2free, ttl_free2paid, \\\n",
    "                          case when ttl_lvl_free == 0 then 1 else 0 end as always_paid, \\\n",
    "                          case when ttl_lvl_paid == 0 then 1 else 0 end as always_free \\\n",
    "                          from  \\\n",
    "                          (select userId, sum(paid2free) as ttl_paid2free, sum(free2paid) as ttl_free2paid, \\\n",
    "                          sum(level_paid) as ttl_lvl_paid, sum(level_free) as ttl_lvl_free \\\n",
    "                          from \\\n",
    "                          (select userId, date, level, prev_level, next_level, page, hour, \\\n",
    "                           case when (prev_level == 'paid' and level == 'free') then 1 else 0 end as paid2free, \\\n",
    "                           case when (prev_level == 'free' and level == 'paid') then 1 else 0 end as free2paid, \\\n",
    "                           case when (level == 'paid') then 1 else 0 end as level_paid, \\\n",
    "                           case when (level == 'free') then 1 else 0 end as level_free \\\n",
    "                           from \\\n",
    "                           (select userId, date, level, page, hour, \\\n",
    "                           lag(level) OVER (ORDER BY userId, date) as prev_level, \\\n",
    "                           lead(level) OVER (ORDER BY userId,date) as next_level \\\n",
    "                           from whole_data) as a) as b \\\n",
    "                           group by userId) as c\")\n",
    "    \n",
    "    # join above features together\n",
    "    df_fe = df_gender.join(df_location.select(['userId','state']), \"userId\")\\\n",
    "                     .join(df_useAgen.select(['userId','opr_system']), \"userId\")\\\n",
    "                     .join(df_song, \"userId\")\\\n",
    "                     .join(df_page, \"userId\")\\\n",
    "                     .join(df_song_length, \"userId\")\\\n",
    "                     .join(df_level, \"userId\")\n",
    "    \n",
    "    # replace space with '_' in column names \n",
    "    col_replace = {c:c.replace(' ', '_') for c in df_fe.columns if ' ' in c}\n",
    "    df_fe = df_fe.select([col(c).alias(col_replace.get(c,c)) for c in df_fe.columns])\n",
    "    \n",
    "    return df_fe"
   ]
  },
  {
   "cell_type": "markdown",
   "metadata": {},
   "source": [
    "`3.` Feature Processing and ML pipline"
   ]
  },
  {
   "cell_type": "code",
   "execution_count": 5,
   "metadata": {},
   "outputs": [],
   "source": [
    "# Comple ML pipeline\n",
    "\n",
    "def ml_pipeline(df, model):\n",
    "    \"\"\"Build feature vector processing and ML pipeline for prediction ready.\n",
    "    INPUT:\n",
    "    df -- (dataframe): Dataframe with users as rows and features as columns.\n",
    "    model : machine learning alogrithm.\n",
    "    OUTPUT:\n",
    "    pipeline -- (Pipeline): Feature processing and ML pipeline\n",
    "    \"\"\"\n",
    "    \n",
    "    ### Dealing with Categorical Variables\n",
    "    # collect categorical variables\n",
    "    cate_cols = [c[0] for c in df.dtypes if (c[1] == 'string' and c[0] not in ['userId','state'])]\n",
    "    # pipeline stages\n",
    "    stages = []\n",
    "\n",
    "    for cat in cate_cols:\n",
    "        # Indexing on categorical variables\n",
    "        string_indexer = StringIndexer(inputCol = cat, outputCol = cat + \"Index\")\n",
    "        # OneHotEncoding on categorical variables to dummy vectors\n",
    "        dum_encoder = OneHotEncoder(inputCol = string_indexer.getOutputCol(), outputCol = cat + \"classVec\")\n",
    "        # update stage\n",
    "        stages += [string_indexer, dum_encoder]\n",
    "\n",
    "    ### Dealing with numerical variables\n",
    "    # collect continous variable\n",
    "    conti_cols = [c[0] for c in df.dtypes if c[1] in ('int','bigint','double') and c[0] != 'churn_user_target']\n",
    "    # assemble continous variables\n",
    "    conti_assemb = VectorAssembler(inputCols = conti_cols, outputCol = \"conti_varas_vec\")\n",
    "    # scale continous variables\n",
    "    cat_scaler = StandardScaler(inputCol = \"conti_varas_vec\", outputCol = \"conti_scaled_feats\")\n",
    "    # update satage\n",
    "    stages += [conti_assemb, cat_scaler]\n",
    "    \n",
    "    \n",
    "    ### conver target variable into label indices\n",
    "    label_strIdx = StringIndexer(inputCol = \"churn_user_target\", outputCol = \"label\")\n",
    "    # update stage\n",
    "    stages += [label_strIdx]\n",
    "    \n",
    "    # Assemble vectors together\n",
    "    assembler_varas = [c + \"Index\" for c in cate_cols] + [\"conti_scaled_feats\"]\n",
    "    # Apply vectorAssembler\n",
    "    assembler = VectorAssembler(inputCols = assembler_varas, outputCol = \"features\")\n",
    "    # Update stage\n",
    "    stages += [assembler]\n",
    "    \n",
    "    ### ML model\n",
    "    ml_model  = model\n",
    "    stages += [ml_model]\n",
    "    \n",
    "    ### Compile pipeline\n",
    "    pipeline = Pipeline().setStages(stages)\n",
    "\n",
    "    return pipeline"
   ]
  },
  {
   "cell_type": "markdown",
   "metadata": {},
   "source": [
    "`4` Model Tranining and Predition"
   ]
  },
  {
   "cell_type": "code",
   "execution_count": 6,
   "metadata": {},
   "outputs": [],
   "source": [
    "def model_contruct(df, model, paramGrid, evaluator):\n",
    "    \"\"\"Split train, test dataset. Grid Search best model by using TrainValidationSplit and do prediction on test set.   \n",
    "    INPUT:\n",
    "    df -- (dataframe): Dataframe with users as rows and features as columns.\n",
    "    model : machine learning alogrithm.\n",
    "    paramGrid: parameters for grid search.\n",
    "    evaluator : The evaluation method.\n",
    "    OUTPUT:\n",
    "    evaluator_val: model performance on validation dataset.\n",
    "    evaluator_test: model performance on test dataset.\n",
    "    \"\"\"\n",
    "    # build data process ml pipeline \n",
    "    pipeline = ml_pipeline(df, model)\n",
    "    \n",
    "    # split train test \n",
    "    train, test = df.randomSplit([0.8, 0.2], seed = 41)\n",
    "    \n",
    "    # split train-validation for finding the best param \n",
    "    train_val_model = TrainValidationSplit(estimator = pipeline,\n",
    "                               estimatorParamMaps = paramGrid,\n",
    "                               evaluator = evaluator,\n",
    "                               trainRatio = 0.7)\n",
    "    \n",
    "    # train model\n",
    "    ml_model = train_val_model.fit(train)\n",
    "    \n",
    "    # get each parameter setting's evaluation result list\n",
    "    evaluator_val = ml_model.validationMetrics\n",
    "    \n",
    "    # extract best model\n",
    "    ml_model_best = ml_model.bestModel\n",
    "    \n",
    "    # test result\n",
    "    result = ml_model_best.transform(test)\n",
    "    \n",
    "    # set evaluator\n",
    "    evaluator = evaluator\n",
    "    \n",
    "    # get evaluation result\n",
    "    evaluator_test = evaluator.evaluate(result)\n",
    "    \n",
    "    return evaluator_val, evaluator_test"
   ]
  },
  {
   "cell_type": "markdown",
   "metadata": {},
   "source": [
    "**Run all steps by using above functions.**"
   ]
  },
  {
   "cell_type": "code",
   "execution_count": 8,
   "metadata": {},
   "outputs": [],
   "source": [
    "# Data Loading and simple cleaning\n",
    "df_raw = data_prep(\"mini_sparkify_event_data.json\")"
   ]
  },
  {
   "cell_type": "code",
   "execution_count": 9,
   "metadata": {},
   "outputs": [],
   "source": [
    "# Feature engineering on raw data\n",
    "df_fe = feature_engineer(df_raw)"
   ]
  },
  {
   "cell_type": "code",
   "execution_count": null,
   "metadata": {},
   "outputs": [],
   "source": [
    "# Model contruct\n",
    "\n",
    "rf = RandomForestClassifier(featuresCol = \"features\", labelCol = \"label\")\n",
    "\n",
    "paramGrid = ParamGridBuilder() \\\n",
    "        .addGrid(rf.numTrees, [10, 15]) \\\n",
    "        .build()\n",
    "\n",
    "rf_val_result, rf_test_result = model_contruct(df_fe, rf, paramGrid, BinaryClassificationEvaluator())"
   ]
  },
  {
   "cell_type": "code",
   "execution_count": null,
   "metadata": {},
   "outputs": [],
   "source": [
    "rf_val_result"
   ]
  },
  {
   "cell_type": "code",
   "execution_count": null,
   "metadata": {},
   "outputs": [],
   "source": [
    "rf_test_result "
   ]
  },
  {
   "cell_type": "markdown",
   "metadata": {},
   "source": [
    "# Summary\n",
    "\n",
    "\n",
    "**End to end solutions** <br>\n",
    "By far, we have explored digital music product user raw log data by using Spark. We've done a lot work like data cleaning, churn defining, data transformation, exploratary between churn/stay groups. At last, we built data processing and machine learning piplines. Using several algorithms and parameter tuning to train churn model and got fine predicted results on test set. \n",
    "\n",
    "**Difficutities** <br>\n",
    "The most difficutity in this project is not quite familiar with Spark library and function at beginning, especially after using a long time and get used to pandas and sklearn. But it is very good practice to handle a business project from end-to-end by using Spark.\n",
    "\n",
    "**Potential Improvements** <br>\n",
    "This project is pretty like the simple but complementary process about how to use Spark to process data and build machine learning models. However, lots of improvement can be done in the following steps, such as using the full size dataset and run on AWS clusters, try more alogorithms and tunning more paramenter etc. Continue to work and make this churn prediction model become scalable and fit the criteria into production."
   ]
  },
  {
   "cell_type": "code",
   "execution_count": null,
   "metadata": {},
   "outputs": [],
   "source": []
  }
 ],
 "metadata": {
  "kernelspec": {
   "display_name": "Python 3",
   "language": "python",
   "name": "python3"
  },
  "language_info": {
   "codemirror_mode": {
    "name": "ipython",
    "version": 3
   },
   "file_extension": ".py",
   "mimetype": "text/x-python",
   "name": "python",
   "nbconvert_exporter": "python",
   "pygments_lexer": "ipython3",
   "version": "3.7.1"
  }
 },
 "nbformat": 4,
 "nbformat_minor": 2
}
